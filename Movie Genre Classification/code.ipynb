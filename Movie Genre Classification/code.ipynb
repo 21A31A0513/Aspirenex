{
 "cells": [
  {
   "cell_type": "markdown",
   "id": "81458793",
   "metadata": {},
   "source": [
    "# MOVIE GENRE CLASSIFICATION "
   ]
  },
  {
   "cell_type": "markdown",
   "id": "2c877ea3",
   "metadata": {},
   "source": [
    "## 1) Importing libraries"
   ]
  },
  {
   "cell_type": "code",
   "execution_count": 23,
   "id": "ffd1a3ba",
   "metadata": {},
   "outputs": [],
   "source": [
    "import pandas as pd\n",
    "import numpy as np\n",
    "import matplotlib.pyplot as plt\n",
    "import seaborn as sns\n",
    "from sklearn.feature_extraction.text import TfidfVectorizer\n",
    "from sklearn.linear_model import LogisticRegression\n",
    "from sklearn.metrics import accuracy_score, classification_report, confusion_matrix\n",
    "import warnings\n",
    "warnings.filterwarnings('ignore')"
   ]
  },
  {
   "cell_type": "markdown",
   "id": "0b9cad9e",
   "metadata": {},
   "source": [
    "## 2) Loading datasets"
   ]
  },
  {
   "cell_type": "code",
   "execution_count": 25,
   "id": "991d77db",
   "metadata": {},
   "outputs": [
    {
     "data": {
      "text/html": [
       "<div>\n",
       "<style scoped>\n",
       "    .dataframe tbody tr th:only-of-type {\n",
       "        vertical-align: middle;\n",
       "    }\n",
       "\n",
       "    .dataframe tbody tr th {\n",
       "        vertical-align: top;\n",
       "    }\n",
       "\n",
       "    .dataframe thead th {\n",
       "        text-align: right;\n",
       "    }\n",
       "</style>\n",
       "<table border=\"1\" class=\"dataframe\">\n",
       "  <thead>\n",
       "    <tr style=\"text-align: right;\">\n",
       "      <th></th>\n",
       "      <th>ID</th>\n",
       "      <th>TITLE</th>\n",
       "      <th>GENRE</th>\n",
       "      <th>DESCRIPTION</th>\n",
       "    </tr>\n",
       "  </thead>\n",
       "  <tbody>\n",
       "    <tr>\n",
       "      <th>0</th>\n",
       "      <td>1</td>\n",
       "      <td>Oscar et la dame rose (2009)</td>\n",
       "      <td>drama</td>\n",
       "      <td>Listening in to a conversation between his do...</td>\n",
       "    </tr>\n",
       "    <tr>\n",
       "      <th>1</th>\n",
       "      <td>2</td>\n",
       "      <td>Cupid (1997)</td>\n",
       "      <td>thriller</td>\n",
       "      <td>A brother and sister with a past incestuous r...</td>\n",
       "    </tr>\n",
       "    <tr>\n",
       "      <th>2</th>\n",
       "      <td>3</td>\n",
       "      <td>Young, Wild and Wonderful (1980)</td>\n",
       "      <td>adult</td>\n",
       "      <td>As the bus empties the students for their fie...</td>\n",
       "    </tr>\n",
       "    <tr>\n",
       "      <th>3</th>\n",
       "      <td>4</td>\n",
       "      <td>The Secret Sin (1915)</td>\n",
       "      <td>drama</td>\n",
       "      <td>To help their unemployed father make ends mee...</td>\n",
       "    </tr>\n",
       "    <tr>\n",
       "      <th>4</th>\n",
       "      <td>5</td>\n",
       "      <td>The Unrecovered (2007)</td>\n",
       "      <td>drama</td>\n",
       "      <td>The film's title refers not only to the un-re...</td>\n",
       "    </tr>\n",
       "  </tbody>\n",
       "</table>\n",
       "</div>"
      ],
      "text/plain": [
       "   ID                               TITLE       GENRE  \\\n",
       "0   1       Oscar et la dame rose (2009)       drama    \n",
       "1   2                       Cupid (1997)    thriller    \n",
       "2   3   Young, Wild and Wonderful (1980)       adult    \n",
       "3   4              The Secret Sin (1915)       drama    \n",
       "4   5             The Unrecovered (2007)       drama    \n",
       "\n",
       "                                         DESCRIPTION  \n",
       "0   Listening in to a conversation between his do...  \n",
       "1   A brother and sister with a past incestuous r...  \n",
       "2   As the bus empties the students for their fie...  \n",
       "3   To help their unemployed father make ends mee...  \n",
       "4   The film's title refers not only to the un-re...  "
      ]
     },
     "execution_count": 25,
     "metadata": {},
     "output_type": "execute_result"
    }
   ],
   "source": [
    "train_data=pd.read_csv(\"train_data.txt\",sep=':::',header=None,names=['ID','TITLE','GENRE','DESCRIPTION'])\n",
    "train_data.head()"
   ]
  },
  {
   "cell_type": "code",
   "execution_count": 26,
   "id": "f8b072f5",
   "metadata": {},
   "outputs": [
    {
     "data": {
      "text/html": [
       "<div>\n",
       "<style scoped>\n",
       "    .dataframe tbody tr th:only-of-type {\n",
       "        vertical-align: middle;\n",
       "    }\n",
       "\n",
       "    .dataframe tbody tr th {\n",
       "        vertical-align: top;\n",
       "    }\n",
       "\n",
       "    .dataframe thead th {\n",
       "        text-align: right;\n",
       "    }\n",
       "</style>\n",
       "<table border=\"1\" class=\"dataframe\">\n",
       "  <thead>\n",
       "    <tr style=\"text-align: right;\">\n",
       "      <th></th>\n",
       "      <th>ID</th>\n",
       "      <th>TITLE</th>\n",
       "      <th>DESCRIPTION</th>\n",
       "    </tr>\n",
       "  </thead>\n",
       "  <tbody>\n",
       "    <tr>\n",
       "      <th>0</th>\n",
       "      <td>1</td>\n",
       "      <td>Edgar's Lunch (1998)</td>\n",
       "      <td>L.R. Brane loves his life - his car, his apar...</td>\n",
       "    </tr>\n",
       "    <tr>\n",
       "      <th>1</th>\n",
       "      <td>2</td>\n",
       "      <td>La guerra de papá (1977)</td>\n",
       "      <td>Spain, March 1964: Quico is a very naughty ch...</td>\n",
       "    </tr>\n",
       "    <tr>\n",
       "      <th>2</th>\n",
       "      <td>3</td>\n",
       "      <td>Off the Beaten Track (2010)</td>\n",
       "      <td>One year in the life of Albin and his family ...</td>\n",
       "    </tr>\n",
       "    <tr>\n",
       "      <th>3</th>\n",
       "      <td>4</td>\n",
       "      <td>Meu Amigo Hindu (2015)</td>\n",
       "      <td>His father has died, he hasn't spoken with hi...</td>\n",
       "    </tr>\n",
       "    <tr>\n",
       "      <th>4</th>\n",
       "      <td>5</td>\n",
       "      <td>Er nu zhai (1955)</td>\n",
       "      <td>Before he was known internationally as a mart...</td>\n",
       "    </tr>\n",
       "  </tbody>\n",
       "</table>\n",
       "</div>"
      ],
      "text/plain": [
       "   ID                          TITLE  \\\n",
       "0   1          Edgar's Lunch (1998)    \n",
       "1   2      La guerra de papá (1977)    \n",
       "2   3   Off the Beaten Track (2010)    \n",
       "3   4        Meu Amigo Hindu (2015)    \n",
       "4   5             Er nu zhai (1955)    \n",
       "\n",
       "                                         DESCRIPTION  \n",
       "0   L.R. Brane loves his life - his car, his apar...  \n",
       "1   Spain, March 1964: Quico is a very naughty ch...  \n",
       "2   One year in the life of Albin and his family ...  \n",
       "3   His father has died, he hasn't spoken with hi...  \n",
       "4   Before he was known internationally as a mart...  "
      ]
     },
     "execution_count": 26,
     "metadata": {},
     "output_type": "execute_result"
    }
   ],
   "source": [
    "test_data= pd.read_csv(\"test_data.txt\",sep=':::',header=None,names=['ID','TITLE','DESCRIPTION'])\n",
    "test_data.head()"
   ]
  },
  {
   "cell_type": "code",
   "execution_count": 27,
   "id": "a23f6eba",
   "metadata": {},
   "outputs": [
    {
     "data": {
      "text/html": [
       "<div>\n",
       "<style scoped>\n",
       "    .dataframe tbody tr th:only-of-type {\n",
       "        vertical-align: middle;\n",
       "    }\n",
       "\n",
       "    .dataframe tbody tr th {\n",
       "        vertical-align: top;\n",
       "    }\n",
       "\n",
       "    .dataframe thead th {\n",
       "        text-align: right;\n",
       "    }\n",
       "</style>\n",
       "<table border=\"1\" class=\"dataframe\">\n",
       "  <thead>\n",
       "    <tr style=\"text-align: right;\">\n",
       "      <th></th>\n",
       "      <th>ID</th>\n",
       "      <th>TITLE</th>\n",
       "      <th>GENRE</th>\n",
       "      <th>DESCRIPTION</th>\n",
       "    </tr>\n",
       "  </thead>\n",
       "  <tbody>\n",
       "    <tr>\n",
       "      <th>0</th>\n",
       "      <td>1</td>\n",
       "      <td>Edgar's Lunch (1998)</td>\n",
       "      <td>thriller</td>\n",
       "      <td>L.R. Brane loves his life - his car, his apar...</td>\n",
       "    </tr>\n",
       "    <tr>\n",
       "      <th>1</th>\n",
       "      <td>2</td>\n",
       "      <td>La guerra de papá (1977)</td>\n",
       "      <td>comedy</td>\n",
       "      <td>Spain, March 1964: Quico is a very naughty ch...</td>\n",
       "    </tr>\n",
       "    <tr>\n",
       "      <th>2</th>\n",
       "      <td>3</td>\n",
       "      <td>Off the Beaten Track (2010)</td>\n",
       "      <td>documentary</td>\n",
       "      <td>One year in the life of Albin and his family ...</td>\n",
       "    </tr>\n",
       "    <tr>\n",
       "      <th>3</th>\n",
       "      <td>4</td>\n",
       "      <td>Meu Amigo Hindu (2015)</td>\n",
       "      <td>drama</td>\n",
       "      <td>His father has died, he hasn't spoken with hi...</td>\n",
       "    </tr>\n",
       "    <tr>\n",
       "      <th>4</th>\n",
       "      <td>5</td>\n",
       "      <td>Er nu zhai (1955)</td>\n",
       "      <td>drama</td>\n",
       "      <td>Before he was known internationally as a mart...</td>\n",
       "    </tr>\n",
       "  </tbody>\n",
       "</table>\n",
       "</div>"
      ],
      "text/plain": [
       "   ID                          TITLE          GENRE  \\\n",
       "0   1          Edgar's Lunch (1998)       thriller    \n",
       "1   2      La guerra de papá (1977)         comedy    \n",
       "2   3   Off the Beaten Track (2010)    documentary    \n",
       "3   4        Meu Amigo Hindu (2015)          drama    \n",
       "4   5             Er nu zhai (1955)          drama    \n",
       "\n",
       "                                         DESCRIPTION  \n",
       "0   L.R. Brane loves his life - his car, his apar...  \n",
       "1   Spain, March 1964: Quico is a very naughty ch...  \n",
       "2   One year in the life of Albin and his family ...  \n",
       "3   His father has died, he hasn't spoken with hi...  \n",
       "4   Before he was known internationally as a mart...  "
      ]
     },
     "execution_count": 27,
     "metadata": {},
     "output_type": "execute_result"
    }
   ],
   "source": [
    "test_data_solution=pd.read_csv(\"test_data_solution.txt\",sep=':::',header=None,names=['ID','TITLE','GENRE','DESCRIPTION'])\n",
    "test_data_solution.head()"
   ]
  },
  {
   "cell_type": "code",
   "execution_count": 28,
   "id": "390dfd67",
   "metadata": {},
   "outputs": [
    {
     "data": {
      "text/plain": [
       "array([' drama ', ' thriller ', ' adult ', ' documentary ', ' comedy ',\n",
       "       ' crime ', ' reality-tv ', ' horror ', ' sport ', ' animation ',\n",
       "       ' action ', ' fantasy ', ' short ', ' sci-fi ', ' music ',\n",
       "       ' adventure ', ' talk-show ', ' western ', ' family ', ' mystery ',\n",
       "       ' history ', ' news ', ' biography ', ' romance ', ' game-show ',\n",
       "       ' musical ', ' war '], dtype=object)"
      ]
     },
     "execution_count": 28,
     "metadata": {},
     "output_type": "execute_result"
    }
   ],
   "source": [
    "train_data['GENRE'].unique()"
   ]
  },
  {
   "cell_type": "code",
   "execution_count": 29,
   "id": "0f4ca47e",
   "metadata": {},
   "outputs": [
    {
     "data": {
      "text/plain": [
       " drama           13613\n",
       " documentary     13096\n",
       " comedy           7447\n",
       " short            5073\n",
       " horror           2204\n",
       " thriller         1591\n",
       " action           1315\n",
       " western          1032\n",
       " reality-tv        884\n",
       " family            784\n",
       " adventure         775\n",
       " music             731\n",
       " romance           672\n",
       " sci-fi            647\n",
       " adult             590\n",
       " crime             505\n",
       " animation         498\n",
       " sport             432\n",
       " talk-show         391\n",
       " fantasy           323\n",
       " mystery           319\n",
       " musical           277\n",
       " biography         265\n",
       " history           243\n",
       " game-show         194\n",
       " news              181\n",
       " war               132\n",
       "Name: GENRE, dtype: int64"
      ]
     },
     "execution_count": 29,
     "metadata": {},
     "output_type": "execute_result"
    }
   ],
   "source": [
    "train_data['GENRE'].value_counts()"
   ]
  },
  {
   "cell_type": "markdown",
   "id": "8cd61abb",
   "metadata": {},
   "source": [
    "## 3) EDA & Visualization for train_data"
   ]
  },
  {
   "cell_type": "code",
   "execution_count": 30,
   "id": "652c3b8d",
   "metadata": {},
   "outputs": [
    {
     "data": {
      "image/png": "[encoded data removed]",
      "text/plain": [
       "<Figure size 1400x700 with 1 Axes>"
      ]
     },
     "metadata": {},
     "output_type": "display_data"
    }
   ],
   "source": [
    "plt.figure(figsize=(14, 7))\n",
    "counts = train_data['GENRE'].value_counts()\n",
    "sns.barplot(x=counts.index, y=counts, palette='viridis')\n",
    "plt.xlabel('GENRE', fontsize=14, fontweight='bold')\n",
    "plt.ylabel('Count', fontsize=14, fontweight='bold')\n",
    "plt.title('Distribution of Genres', fontsize=16, fontweight='bold')\n",
    "plt.xticks(rotation=90, fontsize=14, fontweight='bold')\n",
    "plt.show()"
   ]
  },
  {
   "cell_type": "markdown",
   "id": "3391e8e0",
   "metadata": {},
   "source": [
    "## 4) Model building"
   ]
  },
  {
   "cell_type": "code",
   "execution_count": 31,
   "id": "5e3a5b46",
   "metadata": {},
   "outputs": [],
   "source": [
    "X_train = train_data['DESCRIPTION']\n",
    "y_train = train_data['GENRE']"
   ]
  },
  {
   "cell_type": "markdown",
   "id": "257b5bb1",
   "metadata": {},
   "source": [
    "### Text Vectorization Using TF-IDF"
   ]
  },
  {
   "cell_type": "code",
   "execution_count": 32,
   "id": "ac2a23e2",
   "metadata": {},
   "outputs": [],
   "source": [
    "vectorizer = TfidfVectorizer(stop_words='english')"
   ]
  },
  {
   "cell_type": "code",
   "execution_count": 33,
   "id": "f0f303f5",
   "metadata": {},
   "outputs": [],
   "source": [
    "X_train_tfidf = vectorizer.fit_transform(X_train)"
   ]
  },
  {
   "cell_type": "markdown",
   "id": "d833aab5",
   "metadata": {},
   "source": [
    "### LogisticRegression classifier"
   ]
  },
  {
   "cell_type": "code",
   "execution_count": 44,
   "id": "b39885ff",
   "metadata": {},
   "outputs": [],
   "source": [
    "lgc = LogisticRegression()"
   ]
  },
  {
   "cell_type": "code",
   "execution_count": 45,
   "id": "5463f54b",
   "metadata": {},
   "outputs": [
    {
     "data": {
      "text/plain": [
       "LogisticRegression()"
      ]
     },
     "execution_count": 45,
     "metadata": {},
     "output_type": "execute_result"
    }
   ],
   "source": [
    "lgc.fit(X_train_tfidf, y_train)"
   ]
  },
  {
   "cell_type": "markdown",
   "id": "9bca70c6",
   "metadata": {},
   "source": [
    "## 5) predicting Genre of test data"
   ]
  },
  {
   "cell_type": "code",
   "execution_count": 36,
   "id": "e0836e34",
   "metadata": {},
   "outputs": [],
   "source": [
    "X_test_tfidf = vectorizer.transform(test_data['DESCRIPTION'])\n",
    "y_test=test_data_solution[\"GENRE\"]"
   ]
  },
  {
   "cell_type": "code",
   "execution_count": 37,
   "id": "1670066a",
   "metadata": {},
   "outputs": [
    {
     "data": {
      "text/plain": [
       "array([' drama ', ' drama ', ' documentary ', ..., ' drama ', ' drama ',\n",
       "       ' documentary '], dtype=object)"
      ]
     },
     "execution_count": 37,
     "metadata": {},
     "output_type": "execute_result"
    }
   ],
   "source": [
    "y_predict=lgc.predict(X_test_tfidf)\n",
    "y_predict"
   ]
  },
  {
   "cell_type": "code",
   "execution_count": 38,
   "id": "d8a7a844",
   "metadata": {
    "scrolled": true
   },
   "outputs": [
    {
     "name": "stdout",
     "output_type": "stream",
     "text": [
      "accuracy by using logistic regression classifier is :  0.59119926199262\n"
     ]
    }
   ],
   "source": [
    "lgc_accuracy=accuracy_score(y_predict,y_test)\n",
    "print('accuracy by using logistic regression classifier is : ',lgc_accuracy)"
   ]
  },
  {
   "cell_type": "code",
   "execution_count": 39,
   "id": "2e6d2c3e",
   "metadata": {},
   "outputs": [
    {
     "name": "stdout",
     "output_type": "stream",
     "text": [
      "[[  368     5    34    26     0    46    29     6    43     3    12     2\n",
      "      2    15     0     1     2     0    10     1    28    16    12     0\n",
      "     38    12     8]\n",
      " [    2   135    42     0     0     9     0    15     8     0     0     1\n",
      "      1     2     2     0     0     0     0     3     3     3     0     2\n",
      "      3     1     0]\n",
      " [    5    17   120     6     0     0     1     3     3     3     5     1\n",
      "      0     3     0     0     0     0     0     0     3     0     1     0\n",
      "      0     2     1]\n",
      " [    0     0     2    14     0     1     0     0     0     2     4     0\n",
      "      0     0     0     0     0     0     0     0     0     1     0     0\n",
      "      0     0     0]\n",
      " [    0     0     0     0     0     0     0     0     0     0     0     0\n",
      "      0     0     0     0     0     0     0     0     0     0     0     0\n",
      "      0     0     0]\n",
      " [  123   191   108   130    11  4467    68   253  1092   183    34    30\n",
      "      3   140    53    80    29    20   183   129    46   447    23    60\n",
      "    145     4    39]\n",
      " [    4     0     0     0     0     4    13     2     6     0     0     0\n",
      "      0     0     0     0     3     0     0     0     0     0     0     0\n",
      "      3     0     0]\n",
      " [  153    45   140    89   173   442    52 11341  1114   156    50    19\n",
      "    161   133   289    49    27   107   366    18   127  1387   241   218\n",
      "     85    37    14]\n",
      " [  511   145   230   111    68  2108   285   970 10756   268   123     6\n",
      "     67   479    33   103   161    16   105   490   164  1437    26    17\n",
      "    878    67   200]\n",
      " [    1     0     5    16     0     9     0     7     4    69     1     0\n",
      "      1     1     1     3     0     3     5     0     3     9     2     0\n",
      "      0     0     0]\n",
      " [    0     0     1     0     0     0     0     0     0     0     4     0\n",
      "      0     0     0     0     0     0     0     0     0     0     0     0\n",
      "      0     0     0]\n",
      " [    0     0     0     0     0     6     0     2     1     2     0   104\n",
      "      0     0     0     0     0     0     5     1     0     0     1     1\n",
      "      1     0     0]\n",
      " [    0     0     0     0     0     0     0     0     0     0     0     0\n",
      "      0     0     0     0     0     0     0     0     0     0     0     0\n",
      "      0     0     0]\n",
      " [   41     5    27    21     1    72     6    53    68    11    36     0\n",
      "      1  1280     0     1    29     0    12     2    31    66     1     4\n",
      "    177     1     5]\n",
      " [    0     2     0     3     2    14     2    64     4     7     0     3\n",
      "      1     2   318    24     1     2    13     0     0    13     0     8\n",
      "      0     0     0]\n",
      " [    0     0     0     0     0     0     0     0     0     0     0     0\n",
      "      0     0     0     2     0     0     0     0     0     0     0     0\n",
      "      0     0     0]\n",
      " [    0     0     0     0     0     0     0     0     0     0     0     0\n",
      "      0     0     0     0     1     0     0     0     0     0     0     0\n",
      "      0     0     0]\n",
      " [    0     0     0     0     0     0     0     1     0     1     0     0\n",
      "      0     0     0     0     0     6     0     0     0     0     0     0\n",
      "      0     0     0]\n",
      " [    3     1     4     1     0    18     0    36     6    13     0    13\n",
      "      1     3     5     2     0     8   143     0     3     5    11    12\n",
      "      0     3     0]\n",
      " [    0     1     0     0     0     6     0     0    11     0     2     0\n",
      "      0     1     0     0     1     0     1    10     0     4     0     0\n",
      "      1     0     0]\n",
      " [   21     1     9    21     0    21     0    20     8     4    10     0\n",
      "      0     4     0     0     0     0     0     0   160    12     0     0\n",
      "      1     1     0]\n",
      " [   37    40    32    59     9   191     6   301   399    54    39    13\n",
      "      4    88    29    11    27    12    30    17    56  1642    20    23\n",
      "     52     4     7]\n",
      " [    7     1     1     0     0     1     0     6     3     0     0     1\n",
      "      0     1     0     0     0     0     2     0     0     4    90     0\n",
      "      1     0     0]\n",
      " [    0     0     0     0     0     5     0     2     0     2     1     0\n",
      "      0     0     1     0     0     7     7     0     0     1     2    46\n",
      "      0     0     0]\n",
      " [   29     1    12     1     0    11    40    10    67     2     1     0\n",
      "      0    49     0     0    34     0     0     1    21    22     0     0\n",
      "    200     0     4]\n",
      " [    0     0     0     0     0     0     0     0     0     0     0     0\n",
      "      0     0     0     0     0     0     0     0     0     0     0     0\n",
      "      0     0     0]\n",
      " [    9     0     8     0     0    15     3     4    19     3     0     0\n",
      "      1     3     0     0     3     0     1     0     1     3     1     0\n",
      "      5     0   754]]\n"
     ]
    }
   ],
   "source": [
    " print(confusion_matrix(lgc_y_predict,y_test))"
   ]
  },
  {
   "cell_type": "code",
   "execution_count": 40,
   "id": "f4e7f88b",
   "metadata": {},
   "outputs": [
    {
     "name": "stdout",
     "output_type": "stream",
     "text": [
      "               precision    recall  f1-score   support\n",
      "\n",
      "      action        0.28      0.51      0.36       719\n",
      "       adult        0.23      0.58      0.33       232\n",
      "   adventure        0.15      0.69      0.25       174\n",
      "   animation        0.03      0.58      0.05        24\n",
      "   biography        0.00      0.00      0.00         0\n",
      "      comedy        0.60      0.55      0.58      8091\n",
      "       crime        0.03      0.37      0.05        35\n",
      " documentary        0.87      0.67      0.75     17033\n",
      "       drama        0.79      0.54      0.64     19824\n",
      "      family        0.09      0.49      0.15       140\n",
      "     fantasy        0.01      0.80      0.02         5\n",
      "   game-show        0.54      0.84      0.66       124\n",
      "     history        0.00      0.00      0.00         0\n",
      "      horror        0.58      0.66      0.62      1951\n",
      "       music        0.44      0.66      0.52       483\n",
      "     musical        0.01      1.00      0.01         2\n",
      "     mystery        0.00      1.00      0.01         1\n",
      "        news        0.03      0.75      0.06         8\n",
      "  reality-tv        0.16      0.49      0.24       291\n",
      "     romance        0.01      0.26      0.03        38\n",
      "      sci-fi        0.25      0.55      0.34       293\n",
      "       short        0.32      0.51      0.40      3202\n",
      "       sport        0.21      0.76      0.33       118\n",
      "   talk-show        0.12      0.62      0.20        74\n",
      "    thriller        0.13      0.40      0.19       505\n",
      "         war        0.00      0.00      0.00         0\n",
      "     western        0.73      0.91      0.81       833\n",
      "\n",
      "     accuracy                           0.59     54200\n",
      "    macro avg       0.24      0.56      0.28     54200\n",
      " weighted avg       0.72      0.59      0.64     54200\n",
      "\n"
     ]
    }
   ],
   "source": [
    "print(classification_report(lgc_y_predict,y_test))"
   ]
  },
  {
   "cell_type": "code",
   "execution_count": null,
   "id": "faa171ce",
   "metadata": {},
   "outputs": [],
   "source": []
  }
 ],
 "metadata": {
  "kernelspec": {
   "display_name": "Python 3 (ipykernel)",
   "language": "python",
   "name": "python3"
  },
  "language_info": {
   "codemirror_mode": {
    "name": "ipython",
    "version": 3
   },
   "file_extension": ".py",
   "mimetype": "text/x-python",
   "name": "python",
   "nbconvert_exporter": "python",
   "pygments_lexer": "ipython3",
   "version": "3.9.13"
  }
 },
 "nbformat": 4,
 "nbformat_minor": 5
}
